{
  "nbformat": 4,
  "nbformat_minor": 0,
  "metadata": {
    "colab": {
      "provenance": [],
      "include_colab_link": true
    },
    "kernelspec": {
      "name": "python3",
      "display_name": "Python 3"
    },
    "language_info": {
      "name": "python"
    }
  },
  "cells": [
    {
      "cell_type": "markdown",
      "metadata": {
        "id": "view-in-github",
        "colab_type": "text"
      },
      "source": [
        "<a href=\"https://colab.research.google.com/github/MLUISG/Projects/blob/main/Mark_Guereque_Project_3_SQL.ipynb\" target=\"_parent\"><img src=\"https://colab.research.google.com/assets/colab-badge.svg\" alt=\"Open In Colab\"/></a>"
      ]
    },
    {
      "cell_type": "markdown",
      "source": [
        "# Project 3 "
      ],
      "metadata": {
        "id": "cJG_e1vK2NMI"
      }
    },
    {
      "cell_type": "code",
      "source": [
        "import pandas as pd\n",
        "import sqlite3 as db\n",
        "import matplotlib.pyplot as plt"
      ],
      "metadata": {
        "id": "vYSbEki2JPWo"
      },
      "execution_count": null,
      "outputs": []
    },
    {
      "cell_type": "code",
      "source": [
        "%%capture\n",
        "%%bash\n",
        "apt-get update\n",
        "apt-get install -y sqlite3 wamerican-insane uuid"
      ],
      "metadata": {
        "id": "m1mFDLBHdmRO"
      },
      "execution_count": null,
      "outputs": []
    },
    {
      "cell_type": "code",
      "source": [
        "from google.colab import drive\n",
        "drive.mount('/content/drive/')"
      ],
      "metadata": {
        "colab": {
          "base_uri": "https://localhost:8080/"
        },
        "id": "6U-w21yidvqf",
        "outputId": "da5768b8-83b9-4f1f-acbb-d2bc6cf00639"
      },
      "execution_count": null,
      "outputs": [
        {
          "output_type": "stream",
          "name": "stdout",
          "text": [
            "Drive already mounted at /content/drive/; to attempt to forcibly remount, call drive.mount(\"/content/drive/\", force_remount=True).\n"
          ]
        }
      ]
    },
    {
      "cell_type": "markdown",
      "source": [
        "## Project Data Set\n",
        "For this project I used the Chinook Data Set with SQLite 3.\n",
        "\n"
      ],
      "metadata": {
        "id": "s6jMcIbW3P5o"
      }
    },
    {
      "cell_type": "code",
      "source": [
        "%%bash\n",
        "curl -s -O https://www.sqlitetutorial.net/wp-content/uploads/2018/03/chinook.zip\n",
        "unzip -l chinook.zip\n"
      ],
      "metadata": {
        "colab": {
          "base_uri": "https://localhost:8080/"
        },
        "id": "Ww984bYieCJW",
        "outputId": "9e02053b-8c07-46c3-9fc7-f07d93255ef8"
      },
      "execution_count": null,
      "outputs": [
        {
          "output_type": "stream",
          "name": "stdout",
          "text": [
            "Archive:  chinook.zip\n",
            "  Length      Date    Time    Name\n",
            "---------  ---------- -----   ----\n",
            "   884736  2015-11-29 10:53   chinook.db\n",
            "---------                     -------\n",
            "   884736                     1 file\n"
          ]
        }
      ]
    },
    {
      "cell_type": "code",
      "source": [
        "!unzip chinook.zip\n"
      ],
      "metadata": {
        "colab": {
          "base_uri": "https://localhost:8080/"
        },
        "id": "VBhc3QaheLaa",
        "outputId": "4dc187c0-7e0b-48c6-cea8-5b1543e75161"
      },
      "execution_count": null,
      "outputs": [
        {
          "output_type": "stream",
          "name": "stdout",
          "text": [
            "Archive:  chinook.zip\n",
            "replace chinook.db? [y]es, [n]o, [A]ll, [N]one, [r]ename: n\n"
          ]
        }
      ]
    },
    {
      "cell_type": "markdown",
      "source": [
        "I'm going to look at the tables and schema to better understand how to navigate through my data set."
      ],
      "metadata": {
        "id": "4TPL9LZqT-NV"
      }
    },
    {
      "cell_type": "markdown",
      "source": [
        "# My Data questions\n",
        "* What sort of information is in this dataset?\n",
        "* What data is stored in playlists?\n",
        "* What does kind of data is in invoice?\n",
        "* Who is the largest customer?\n",
        "\n",
        "\n"
      ],
      "metadata": {
        "id": "OA9Mp38s52x2"
      }
    },
    {
      "cell_type": "markdown",
      "source": [
        "##Initial Data Analysis"
      ],
      "metadata": {
        "id": "lOFCv4MSWpBX"
      }
    },
    {
      "cell_type": "code",
      "source": [
        "%%script sqlite3 --column --header chinook.db\n",
        ".tables"
      ],
      "metadata": {
        "colab": {
          "base_uri": "https://localhost:8080/"
        },
        "id": "TEihQ9vNeVM1",
        "outputId": "ab0eaf6b-6d69-47b6-8ba1-a8d7fb7646d3"
      },
      "execution_count": null,
      "outputs": [
        {
          "output_type": "stream",
          "name": "stdout",
          "text": [
            "albums          employees       invoices        playlists     \n",
            "artists         genres          media_types     tracks        \n",
            "customers       invoice_items   playlist_track\n"
          ]
        }
      ]
    },
    {
      "cell_type": "code",
      "source": [
        "%%script sqlite3 --column --header chinook.db\n",
        ".schema\n"
      ],
      "metadata": {
        "id": "UhFW0uTR6Jfv",
        "colab": {
          "base_uri": "https://localhost:8080/"
        },
        "outputId": "a1f2ec0a-e66a-4c16-a650-d21c7cd95b88"
      },
      "execution_count": null,
      "outputs": [
        {
          "output_type": "stream",
          "name": "stdout",
          "text": [
            "CREATE TABLE IF NOT EXISTS \"albums\"\r\n",
            "(\r\n",
            "    [AlbumId] INTEGER PRIMARY KEY AUTOINCREMENT NOT NULL,\r\n",
            "    [Title] NVARCHAR(160)  NOT NULL,\r\n",
            "    [ArtistId] INTEGER  NOT NULL,\r\n",
            "    FOREIGN KEY ([ArtistId]) REFERENCES \"artists\" ([ArtistId]) \r\n",
            "\t\tON DELETE NO ACTION ON UPDATE NO ACTION\r\n",
            ");\n",
            "CREATE TABLE sqlite_sequence(name,seq);\n",
            "CREATE TABLE IF NOT EXISTS \"artists\"\r\n",
            "(\r\n",
            "    [ArtistId] INTEGER PRIMARY KEY AUTOINCREMENT NOT NULL,\r\n",
            "    [Name] NVARCHAR(120)\r\n",
            ");\n",
            "CREATE TABLE IF NOT EXISTS \"customers\"\r\n",
            "(\r\n",
            "    [CustomerId] INTEGER PRIMARY KEY AUTOINCREMENT NOT NULL,\r\n",
            "    [FirstName] NVARCHAR(40)  NOT NULL,\r\n",
            "    [LastName] NVARCHAR(20)  NOT NULL,\r\n",
            "    [Company] NVARCHAR(80),\r\n",
            "    [Address] NVARCHAR(70),\r\n",
            "    [City] NVARCHAR(40),\r\n",
            "    [State] NVARCHAR(40),\r\n",
            "    [Country] NVARCHAR(40),\r\n",
            "    [PostalCode] NVARCHAR(10),\r\n",
            "    [Phone] NVARCHAR(24),\r\n",
            "    [Fax] NVARCHAR(24),\r\n",
            "    [Email] NVARCHAR(60)  NOT NULL,\r\n",
            "    [SupportRepId] INTEGER,\r\n",
            "    FOREIGN KEY ([SupportRepId]) REFERENCES \"employees\" ([EmployeeId]) \r\n",
            "\t\tON DELETE NO ACTION ON UPDATE NO ACTION\r\n",
            ");\n",
            "CREATE TABLE IF NOT EXISTS \"employees\"\r\n",
            "(\r\n",
            "    [EmployeeId] INTEGER PRIMARY KEY AUTOINCREMENT NOT NULL,\r\n",
            "    [LastName] NVARCHAR(20)  NOT NULL,\r\n",
            "    [FirstName] NVARCHAR(20)  NOT NULL,\r\n",
            "    [Title] NVARCHAR(30),\r\n",
            "    [ReportsTo] INTEGER,\r\n",
            "    [BirthDate] DATETIME,\r\n",
            "    [HireDate] DATETIME,\r\n",
            "    [Address] NVARCHAR(70),\r\n",
            "    [City] NVARCHAR(40),\r\n",
            "    [State] NVARCHAR(40),\r\n",
            "    [Country] NVARCHAR(40),\r\n",
            "    [PostalCode] NVARCHAR(10),\r\n",
            "    [Phone] NVARCHAR(24),\r\n",
            "    [Fax] NVARCHAR(24),\r\n",
            "    [Email] NVARCHAR(60),\r\n",
            "    FOREIGN KEY ([ReportsTo]) REFERENCES \"employees\" ([EmployeeId]) \r\n",
            "\t\tON DELETE NO ACTION ON UPDATE NO ACTION\r\n",
            ");\n",
            "CREATE TABLE IF NOT EXISTS \"genres\"\r\n",
            "(\r\n",
            "    [GenreId] INTEGER PRIMARY KEY AUTOINCREMENT NOT NULL,\r\n",
            "    [Name] NVARCHAR(120)\r\n",
            ");\n",
            "CREATE TABLE IF NOT EXISTS \"invoices\"\r\n",
            "(\r\n",
            "    [InvoiceId] INTEGER PRIMARY KEY AUTOINCREMENT NOT NULL,\r\n",
            "    [CustomerId] INTEGER  NOT NULL,\r\n",
            "    [InvoiceDate] DATETIME  NOT NULL,\r\n",
            "    [BillingAddress] NVARCHAR(70),\r\n",
            "    [BillingCity] NVARCHAR(40),\r\n",
            "    [BillingState] NVARCHAR(40),\r\n",
            "    [BillingCountry] NVARCHAR(40),\r\n",
            "    [BillingPostalCode] NVARCHAR(10),\r\n",
            "    [Total] NUMERIC(10,2)  NOT NULL,\r\n",
            "    FOREIGN KEY ([CustomerId]) REFERENCES \"customers\" ([CustomerId]) \r\n",
            "\t\tON DELETE NO ACTION ON UPDATE NO ACTION\r\n",
            ");\n",
            "CREATE TABLE IF NOT EXISTS \"invoice_items\"\r\n",
            "(\r\n",
            "    [InvoiceLineId] INTEGER PRIMARY KEY AUTOINCREMENT NOT NULL,\r\n",
            "    [InvoiceId] INTEGER  NOT NULL,\r\n",
            "    [TrackId] INTEGER  NOT NULL,\r\n",
            "    [UnitPrice] NUMERIC(10,2)  NOT NULL,\r\n",
            "    [Quantity] INTEGER  NOT NULL,\r\n",
            "    FOREIGN KEY ([InvoiceId]) REFERENCES \"invoices\" ([InvoiceId]) \r\n",
            "\t\tON DELETE NO ACTION ON UPDATE NO ACTION,\r\n",
            "    FOREIGN KEY ([TrackId]) REFERENCES \"tracks\" ([TrackId]) \r\n",
            "\t\tON DELETE NO ACTION ON UPDATE NO ACTION\r\n",
            ");\n",
            "CREATE TABLE IF NOT EXISTS \"media_types\"\r\n",
            "(\r\n",
            "    [MediaTypeId] INTEGER PRIMARY KEY AUTOINCREMENT NOT NULL,\r\n",
            "    [Name] NVARCHAR(120)\r\n",
            ");\n",
            "CREATE TABLE IF NOT EXISTS \"playlists\"\r\n",
            "(\r\n",
            "    [PlaylistId] INTEGER PRIMARY KEY AUTOINCREMENT NOT NULL,\r\n",
            "    [Name] NVARCHAR(120)\r\n",
            ");\n",
            "CREATE TABLE IF NOT EXISTS \"playlist_track\"\r\n",
            "(\r\n",
            "    [PlaylistId] INTEGER  NOT NULL,\r\n",
            "    [TrackId] INTEGER  NOT NULL,\r\n",
            "    CONSTRAINT [PK_PlaylistTrack] PRIMARY KEY  ([PlaylistId], [TrackId]),\r\n",
            "    FOREIGN KEY ([PlaylistId]) REFERENCES \"playlists\" ([PlaylistId]) \r\n",
            "\t\tON DELETE NO ACTION ON UPDATE NO ACTION,\r\n",
            "    FOREIGN KEY ([TrackId]) REFERENCES \"tracks\" ([TrackId]) \r\n",
            "\t\tON DELETE NO ACTION ON UPDATE NO ACTION\r\n",
            ");\n",
            "CREATE TABLE IF NOT EXISTS \"tracks\"\r\n",
            "(\r\n",
            "    [TrackId] INTEGER PRIMARY KEY AUTOINCREMENT NOT NULL,\r\n",
            "    [Name] NVARCHAR(200)  NOT NULL,\r\n",
            "    [AlbumId] INTEGER,\r\n",
            "    [MediaTypeId] INTEGER  NOT NULL,\r\n",
            "    [GenreId] INTEGER,\r\n",
            "    [Composer] NVARCHAR(220),\r\n",
            "    [Milliseconds] INTEGER  NOT NULL,\r\n",
            "    [Bytes] INTEGER,\r\n",
            "    [UnitPrice] NUMERIC(10,2)  NOT NULL,\r\n",
            "    FOREIGN KEY ([AlbumId]) REFERENCES \"albums\" ([AlbumId]) \r\n",
            "\t\tON DELETE NO ACTION ON UPDATE NO ACTION,\r\n",
            "    FOREIGN KEY ([GenreId]) REFERENCES \"genres\" ([GenreId]) \r\n",
            "\t\tON DELETE NO ACTION ON UPDATE NO ACTION,\r\n",
            "    FOREIGN KEY ([MediaTypeId]) REFERENCES \"media_types\" ([MediaTypeId]) \r\n",
            "\t\tON DELETE NO ACTION ON UPDATE NO ACTION\r\n",
            ");\n",
            "CREATE INDEX [IFK_AlbumArtistId] ON \"albums\" ([ArtistId]);\n",
            "CREATE INDEX [IFK_CustomerSupportRepId] ON \"customers\" ([SupportRepId]);\n",
            "CREATE INDEX [IFK_EmployeeReportsTo] ON \"employees\" ([ReportsTo]);\n",
            "CREATE INDEX [IFK_InvoiceCustomerId] ON \"invoices\" ([CustomerId]);\n",
            "CREATE INDEX [IFK_InvoiceLineInvoiceId] ON \"invoice_items\" ([InvoiceId]);\n",
            "CREATE INDEX [IFK_InvoiceLineTrackId] ON \"invoice_items\" ([TrackId]);\n",
            "CREATE INDEX [IFK_PlaylistTrackTrackId] ON \"playlist_track\" ([TrackId]);\n",
            "CREATE INDEX [IFK_TrackAlbumId] ON \"tracks\" ([AlbumId]);\n",
            "CREATE INDEX [IFK_TrackGenreId] ON \"tracks\" ([GenreId]);\n",
            "CREATE INDEX [IFK_TrackMediaTypeId] ON \"tracks\" ([MediaTypeId]);\n",
            "CREATE TABLE sqlite_stat1(tbl,idx,stat);\n"
          ]
        }
      ]
    },
    {
      "cell_type": "markdown",
      "source": [
        "It looks like Chinook is a company that sells music to customers around the world."
      ],
      "metadata": {
        "id": "kECTHaeAWPSt"
      }
    },
    {
      "cell_type": "markdown",
      "source": [
        "## Playlist Info\n"
      ],
      "metadata": {
        "id": "TqvaIfog546s"
      }
    },
    {
      "cell_type": "code",
      "source": [
        "%%script sqlite3 --column --header chinook.db\n",
        "select *\n",
        "from playlists \n",
        "limit 10"
      ],
      "metadata": {
        "colab": {
          "base_uri": "https://localhost:8080/"
        },
        "id": "e63a3nBEfn90",
        "outputId": "909b192d-0cc1-4fde-b67d-4e7cb39bf90c"
      },
      "execution_count": null,
      "outputs": [
        {
          "output_type": "stream",
          "name": "stdout",
          "text": [
            "PlaylistId  Name      \n",
            "----------  ----------\n",
            "1           Music     \n",
            "2           Movies    \n",
            "3           TV Shows  \n",
            "4           Audiobooks\n",
            "5           90’s Music\n",
            "6           Audiobooks\n",
            "7           Movies    \n",
            "8           Music     \n",
            "9           Music Vide\n",
            "10          TV Shows  \n"
          ]
        }
      ]
    },
    {
      "cell_type": "code",
      "source": [
        "%%script sqlite3 --column --header chinook.db\n",
        "select \n",
        "count(*)\n",
        "from playlists"
      ],
      "metadata": {
        "id": "LYR3yVkI6KJM",
        "colab": {
          "base_uri": "https://localhost:8080/"
        },
        "outputId": "8bf80beb-4ccd-4991-b815-be71ea3e664f"
      },
      "execution_count": null,
      "outputs": [
        {
          "output_type": "stream",
          "name": "stdout",
          "text": [
            "count(*)  \n",
            "----------\n",
            "18        \n"
          ]
        }
      ]
    },
    {
      "cell_type": "code",
      "source": [
        "%%script sqlite3 --column --header chinook.db\n",
        "select *\n",
        "from playlists "
      ],
      "metadata": {
        "colab": {
          "base_uri": "https://localhost:8080/"
        },
        "id": "l7qfMZ4wf80U",
        "outputId": "21201722-fc8d-43ad-a16d-a15a13c8922b"
      },
      "execution_count": null,
      "outputs": [
        {
          "output_type": "stream",
          "name": "stdout",
          "text": [
            "PlaylistId  Name      \n",
            "----------  ----------\n",
            "1           Music     \n",
            "2           Movies    \n",
            "3           TV Shows  \n",
            "4           Audiobooks\n",
            "5           90’s Music\n",
            "6           Audiobooks\n",
            "7           Movies    \n",
            "8           Music     \n",
            "9           Music Vide\n",
            "10          TV Shows  \n",
            "11          Brazilian \n",
            "12          Classical \n",
            "13          Classical \n",
            "14          Classical \n",
            "15          Classical \n",
            "16          Grunge    \n",
            "17          Heavy Meta\n",
            "18          On-The-Go \n"
          ]
        }
      ]
    },
    {
      "cell_type": "markdown",
      "source": [
        "I first pulled just the first 10 items in playlists to get a general overlook. After that I did a count and saw it's only 18 items so I pulled the rest."
      ],
      "metadata": {
        "id": "dhVh6NjbXE3d"
      }
    },
    {
      "cell_type": "code",
      "source": [
        "%%script sqlite3 --column --header chinook.db\n",
        "select PlaylistId,\n",
        "count(*)\n",
        "from playlist_track\n",
        "group by PlaylistId"
      ],
      "metadata": {
        "id": "NMrvo0jE6LL9",
        "colab": {
          "base_uri": "https://localhost:8080/"
        },
        "outputId": "00169500-e431-4b43-c503-260fe1a4be38"
      },
      "execution_count": null,
      "outputs": [
        {
          "output_type": "stream",
          "name": "stdout",
          "text": [
            "PlaylistId  count(*)  \n",
            "----------  ----------\n",
            "1           3290      \n",
            "3           213       \n",
            "5           1477      \n",
            "8           3290      \n",
            "9           1         \n",
            "10          213       \n",
            "11          39        \n",
            "12          75        \n",
            "13          25        \n",
            "14          25        \n",
            "15          25        \n",
            "16          15        \n",
            "17          26        \n",
            "18          1         \n"
          ]
        }
      ]
    },
    {
      "cell_type": "code",
      "source": [
        "%%script sqlite3 --column --header chinook.db\n",
        "select *\n",
        "from playlist_track\n",
        "where PlaylistId = 13"
      ],
      "metadata": {
        "colab": {
          "base_uri": "https://localhost:8080/"
        },
        "id": "1hwhgw0uku8e",
        "outputId": "cead01d1-26db-4357-b952-23f780e3c45a"
      },
      "execution_count": null,
      "outputs": [
        {
          "output_type": "stream",
          "name": "stdout",
          "text": [
            "PlaylistId  TrackId   \n",
            "----------  ----------\n",
            "13          3479      \n",
            "13          3480      \n",
            "13          3481      \n",
            "13          3482      \n",
            "13          3483      \n",
            "13          3484      \n",
            "13          3485      \n",
            "13          3486      \n",
            "13          3487      \n",
            "13          3488      \n",
            "13          3489      \n",
            "13          3490      \n",
            "13          3491      \n",
            "13          3492      \n",
            "13          3493      \n",
            "13          3494      \n",
            "13          3495      \n",
            "13          3496      \n",
            "13          3497      \n",
            "13          3498      \n",
            "13          3499      \n",
            "13          3500      \n",
            "13          3501      \n",
            "13          3502      \n",
            "13          3503      \n"
          ]
        }
      ]
    },
    {
      "cell_type": "code",
      "source": [
        "%%script sqlite3 --column --header chinook.db\n",
        "select *\n",
        "from tracks\n",
        "where TrackId = 3479"
      ],
      "metadata": {
        "colab": {
          "base_uri": "https://localhost:8080/"
        },
        "id": "_diWsxCclXn0",
        "outputId": "5c95e044-af6e-4675-a81f-4e91fb61ef0f"
      },
      "execution_count": null,
      "outputs": [
        {
          "output_type": "stream",
          "name": "stdout",
          "text": [
            "TrackId     Name                         AlbumId     MediaTypeId  GenreId     Composer              Milliseconds  Bytes       UnitPrice \n",
            "----------  ---------------------------  ----------  -----------  ----------  --------------------  ------------  ----------  ----------\n",
            "3479        Prometheus Overture, Op. 43  324         4            24          Ludwig van Beethoven  339567        10887931    0.99      \n"
          ]
        }
      ]
    },
    {
      "cell_type": "code",
      "source": [
        "%%script sqlite3 --column --header chinook.db\n",
        "with Tracks_info as(\n",
        "select *\n",
        "from tracks\n",
        "where TrackId = 3479\n",
        "),\n",
        "Class_13 as(\n",
        "  select *\n",
        "from playlist_track\n",
        "where PlaylistId = 13\n",
        ")\n",
        "select *\n",
        "from Class_13 as c\n",
        "join Tracks_info as t\n",
        "where c.TrackId = t.TrackId\n"
      ],
      "metadata": {
        "colab": {
          "base_uri": "https://localhost:8080/"
        },
        "id": "wVLbHagelnBb",
        "outputId": "829fe801-4161-40e5-e966-184aad5d1133"
      },
      "execution_count": null,
      "outputs": [
        {
          "output_type": "stream",
          "name": "stdout",
          "text": [
            "PlaylistId  TrackId     TrackId     Name                         AlbumId     MediaTypeId  GenreId     Composer              Milliseconds  Bytes       UnitPrice \n",
            "----------  ----------  ----------  ---------------------------  ----------  -----------  ----------  --------------------  ------------  ----------  ----------\n",
            "13          3479        3479        Prometheus Overture, Op. 43  324         4            24          Ludwig van Beethoven  339567        10887931    0.99      \n"
          ]
        }
      ]
    },
    {
      "cell_type": "code",
      "source": [
        "%%script sqlite3 --column --header chinook.db\n",
        "with Tracks_info as(\n",
        "select *\n",
        "from tracks\n",
        "),\n",
        "Class_13 as(\n",
        "  select *\n",
        "from playlist_track\n",
        "where PlaylistId = 13\n",
        ")\n",
        "select *\n",
        "from Class_13 as c\n",
        "join Tracks_info as t\n",
        "where c.TrackId = t.TrackId\n"
      ],
      "metadata": {
        "colab": {
          "base_uri": "https://localhost:8080/"
        },
        "id": "7BbZ0yGpoAHv",
        "outputId": "aaf17bc7-ae68-425f-cf55-023a63adff33"
      },
      "execution_count": null,
      "outputs": [
        {
          "output_type": "stream",
          "name": "stdout",
          "text": [
            "PlaylistId  TrackId     TrackId     Name                         AlbumId     MediaTypeId  GenreId     Composer              Milliseconds  Bytes       UnitPrice \n",
            "----------  ----------  ----------  ---------------------------  ----------  -----------  ----------  --------------------  ------------  ----------  ----------\n",
            "13          3479        3479        Prometheus Overture, Op. 43  324         4            24          Ludwig van Beethoven  339567        10887931    0.99      \n",
            "13          3480        3480        Sonata for Solo Violin: IV:  325         4            24          Béla Bartók           299350        9785346     0.99      \n",
            "13          3481        3481        A Midsummer Night's Dream,   326         2            24                                387826        6497867     0.99      \n",
            "13          3482        3482        Suite No. 3 in D, BWV 1068:  327         2            24          Johann Sebastian Bac  225933        3847164     0.99      \n",
            "13          3483        3483        Concert pour 4 Parties de V  328         2            24          Marc-Antoine Charpen  110266        1973559     0.99      \n",
            "13          3484        3484        Adios nonino                 329         2            24          Astor Piazzolla       289388        4781384     0.99      \n",
            "13          3485        3485        Symphony No. 3 Op. 36 for O  330         2            24          Henryk Górecki        567494        9273123     0.99      \n",
            "13          3486        3486        Act IV, Symphony             331         2            24          Henry Purcell         364296        5987695     0.99      \n",
            "13          3487        3487        3 Gymnopédies: No.1 - Lent   332         2            24          Erik Satie            385506        6458501     0.99      \n",
            "13          3488        3488        Music for the Funeral of Qu  333         2            24          Henry Purcell         142081        2365930     0.99      \n",
            "13          3489        3489        Symphony No. 2: III. Allegr  334         2            24          Kurt Weill            376510        6129146     0.99      \n",
            "13          3490        3490        Partita in E Major, BWV 100  335         2            24          Johann Sebastian Bac  285673        4744929     0.99      \n",
            "13          3491        3491        Le Sacre Du Printemps: I.iv  336         2            24          Igor Stravinsky       234746        4072205     0.99      \n",
            "13          3492        3492        Sing Joyfully                314         2            24          William Byrd          133768        2256484     0.99      \n",
            "13          3493        3493        Metopes, Op. 29: Calypso     337         2            24          Karol Szymanowski     333669        5548755     0.99      \n",
            "13          3494        3494        Symphony No. 2, Op. 16 -  \"  338         2            24          Carl Nielsen          286998        4834785     0.99      \n",
            "13          3495        3495        24 Caprices, Op. 1, No. 24,  339         2            24          Niccolò Paganini      265541        4371533     0.99      \n",
            "13          3496        3496        Étude 1, In C Major - Prelu  340         4            24                                51780         2229617     0.99      \n",
            "13          3497        3497        Erlkonig, D.328              341         2            24                                261849        4307907     0.99      \n",
            "13          3498        3498        Concerto for Violin, String  342         4            24          Pietro Antonio Locat  493573        16454937    0.99      \n",
            "13          3499        3499        Pini Di Roma (Pinien Von Ro  343         2            24                                286741        4718950     0.99      \n",
            "13          3500        3500        String Quartet No. 12 in C   344         2            24          Franz Schubert        139200        2283131     0.99      \n",
            "13          3501        3501        L'orfeo, Act 3, Sinfonia (O  345         2            24          Claudio Monteverdi    66639         1189062     0.99      \n",
            "13          3502        3502        Quintet for Horn, Violin, 2  346         2            24          Wolfgang Amadeus Moz  221331        3665114     0.99      \n",
            "13          3503        3503        Koyaanisqatsi                347         2            10          Philip Glass          206005        3305164     0.99      \n"
          ]
        }
      ]
    },
    {
      "cell_type": "code",
      "source": [
        "%%script sqlite3 --column --header chinook.db\n",
        "select *\n",
        "from playlists "
      ],
      "metadata": {
        "colab": {
          "base_uri": "https://localhost:8080/"
        },
        "id": "TR4r3o4eohNF",
        "outputId": "e75e5579-3c49-4d4e-cfb9-4daef41f5198"
      },
      "execution_count": null,
      "outputs": [
        {
          "output_type": "stream",
          "name": "stdout",
          "text": [
            "PlaylistId  Name      \n",
            "----------  ----------\n",
            "1           Music     \n",
            "2           Movies    \n",
            "3           TV Shows  \n",
            "4           Audiobooks\n",
            "5           90’s Music\n",
            "6           Audiobooks\n",
            "7           Movies    \n",
            "8           Music     \n",
            "9           Music Vide\n",
            "10          TV Shows  \n",
            "11          Brazilian \n",
            "12          Classical \n",
            "13          Classical \n",
            "14          Classical \n",
            "15          Classical \n",
            "16          Grunge    \n",
            "17          Heavy Meta\n",
            "18          On-The-Go \n"
          ]
        }
      ]
    },
    {
      "cell_type": "code",
      "source": [
        "%%script sqlite3 --column --header chinook.db\n",
        "select Name,\n",
        "PlaylistID between 12 and 15\n",
        "from playlists "
      ],
      "metadata": {
        "colab": {
          "base_uri": "https://localhost:8080/"
        },
        "id": "6Q4JcBU8iEgP",
        "outputId": "1220ad55-1c8a-4ea4-a927-99fe2ecf010d"
      },
      "execution_count": null,
      "outputs": [
        {
          "output_type": "stream",
          "name": "stdout",
          "text": [
            "Name        PlaylistID between 12 and 15\n",
            "----------  ----------------------------\n",
            "Music       0                           \n",
            "Movies      0                           \n",
            "TV Shows    0                           \n",
            "Audiobooks  0                           \n",
            "90’s Music  0                           \n",
            "Audiobooks  0                           \n",
            "Movies      0                           \n",
            "Music       0                           \n",
            "Music Vide  0                           \n",
            "TV Shows    0                           \n",
            "Brazilian   0                           \n",
            "Classical   1                           \n",
            "Classical   1                           \n",
            "Classical   1                           \n",
            "Classical   1                           \n",
            "Grunge      0                           \n",
            "Heavy Meta  0                           \n",
            "On-The-Go   0                           \n"
          ]
        }
      ]
    },
    {
      "cell_type": "code",
      "source": [
        "%%script sqlite3 --column --header chinook.db\n",
        "with Movies_and_Music as(\n",
        "select * \n",
        "from playlists\n",
        "where Name = 'Movies' or Name = 'Music'\n",
        ")\n",
        "select *\n",
        "from Movies_and_Music"
      ],
      "metadata": {
        "colab": {
          "base_uri": "https://localhost:8080/"
        },
        "id": "sjK5KYbGjBpj",
        "outputId": "b5bcb231-842f-45f3-a042-18f19c35146b"
      },
      "execution_count": null,
      "outputs": [
        {
          "output_type": "stream",
          "name": "stdout",
          "text": [
            "PlaylistId  Name      \n",
            "----------  ----------\n",
            "1           Music     \n",
            "2           Movies    \n",
            "7           Movies    \n",
            "8           Music     \n"
          ]
        }
      ]
    },
    {
      "cell_type": "code",
      "source": [
        "%%script sqlite3 --header chinook.db\n",
        "with Tracks_info as(\n",
        "select *\n",
        "from tracks\n",
        "),\n",
        "Class_13 as(\n",
        "  select *\n",
        "from playlist_track\n",
        "where PlaylistId in (12,13,14,15)\n",
        "),\n",
        "Play_Class as(\n",
        "  select *\n",
        "  from playlists\n",
        "  where PlaylistId in (12,13,14,15)\n",
        "),\n",
        "Combo as(\n",
        "select *\n",
        "from Class_13 as c\n",
        "join Tracks_info as t\n",
        "where c.TrackId = t.TrackId\n",
        "),\n",
        "Class_all as(\n",
        "select *\n",
        "from Play_Class join Combo\n",
        "where Play_Class.PlaylistID = Combo.PlaylistId\n",
        ")\n",
        "select \n",
        "count(distinct `Name:1`)\n",
        "from Class_all\n"
      ],
      "metadata": {
        "colab": {
          "base_uri": "https://localhost:8080/"
        },
        "id": "Cnc1VB5goKCP",
        "outputId": "5366f1eb-e5f0-4e24-82cd-1ff1ef74c5e4"
      },
      "execution_count": null,
      "outputs": [
        {
          "output_type": "stream",
          "name": "stdout",
          "text": [
            "count(distinct `Name:1`)\n",
            "75\n"
          ]
        }
      ]
    },
    {
      "cell_type": "code",
      "source": [
        "%%script sqlite3 --header chinook.db\n",
        "with Tracks_info as(\n",
        "select *\n",
        "from tracks\n",
        "),\n",
        "Class_13 as(\n",
        "  select *\n",
        "from playlist_track\n",
        "where PlaylistId in (12,13,14,15)\n",
        "),\n",
        "Play_Class as(\n",
        "  select *\n",
        "  from playlists\n",
        "  where PlaylistId in (12,13,14,15)\n",
        "),\n",
        "Combo as(\n",
        "select *\n",
        "from Class_13 as c\n",
        "join Tracks_info as t\n",
        "where c.TrackId = t.TrackId\n",
        "),\n",
        "Class_all as(\n",
        "select *\n",
        "from Play_Class join Combo\n",
        "where Play_Class.PlaylistID = Combo.PlaylistId\n",
        ")\n",
        "select *\n",
        "from Class_all\n"
      ],
      "metadata": {
        "colab": {
          "base_uri": "https://localhost:8080/"
        },
        "id": "F7AuiWU7x3ZY",
        "outputId": "50581875-222c-4b6f-8ef1-fa12c8857f4f"
      },
      "execution_count": null,
      "outputs": [
        {
          "output_type": "stream",
          "name": "stdout",
          "text": [
            "PlaylistId|Name|PlaylistId:1|TrackId|TrackId:1|Name:1|AlbumId|MediaTypeId|GenreId|Composer|Milliseconds|Bytes|UnitPrice\n",
            "12|Classical|12|3403|3403|Intoitus: Adorate Deum|272|2|24|Anonymous|245317|4123531|0.99\n",
            "12|Classical|12|3404|3404|Miserere mei, Deus|273|2|24|Gregorio Allegri|501503|8285941|0.99\n",
            "12|Classical|12|3405|3405|Canon and Gigue in D Major: I. Canon|274|2|24|Johann Pachelbel|271788|4438393|0.99\n",
            "12|Classical|12|3406|3406|Concerto No. 1 in E Major, RV 269 \"Spring\": I. Allegro|275|2|24|Antonio Vivaldi|199086|3347810|0.99\n",
            "12|Classical|12|3407|3407|Concerto for 2 Violins in D Minor, BWV 1043: I. Vivace|276|2|24|Johann Sebastian Bach|193722|3192890|0.99\n",
            "12|Classical|12|3408|3408|Aria Mit 30 Veränderungen, BWV 988 \"Goldberg Variations\": Aria|277|2|24|Johann Sebastian Bach|120463|2081895|0.99\n",
            "12|Classical|12|3409|3409|Suite for Solo Cello No. 1 in G Major, BWV 1007: I. Prélude|278|2|24|Johann Sebastian Bach|143288|2315495|0.99\n",
            "12|Classical|12|3410|3410|The Messiah: Behold, I Tell You a Mystery... The Trumpet Shall Sound|279|2|24|George Frideric Handel|582029|9553140|0.99\n",
            "12|Classical|12|3411|3411|Solomon HWV 67: The Arrival of the Queen of Sheba|280|2|24|George Frideric Handel|197135|3247914|0.99\n",
            "12|Classical|12|3412|3412|\"Eine Kleine Nachtmusik\" Serenade In G, K. 525: I. Allegro|281|2|24|Wolfgang Amadeus Mozart|348971|5760129|0.99\n",
            "12|Classical|12|3413|3413|Concerto for Clarinet in A Major, K. 622: II. Adagio|282|2|24|Wolfgang Amadeus Mozart|394482|6474980|0.99\n",
            "12|Classical|12|3414|3414|Symphony No. 104 in D Major \"London\": IV. Finale: Spiritoso|283|4|24|Franz Joseph Haydn|306687|10085867|0.99\n",
            "12|Classical|12|3415|3415|Symphony No.5 in C Minor: I. Allegro con brio|284|2|24|Ludwig van Beethoven|392462|6419730|0.99\n",
            "12|Classical|12|3416|3416|Ave Maria|285|2|24|Franz Schubert|338243|5605648|0.99\n",
            "12|Classical|12|3417|3417|Nabucco: Chorus, \"Va, Pensiero, Sull'ali Dorate\"|286|2|24|Giuseppe Verdi|274504|4498583|0.99\n",
            "12|Classical|12|3418|3418|Die Walküre: The Ride of the Valkyries|287|2|24|Richard Wagner|189008|3114209|0.99\n",
            "12|Classical|12|3419|3419|Requiem, Op.48: 4. Pie Jesu|288|2|24|Gabriel Fauré|258924|4314850|0.99\n",
            "12|Classical|12|3420|3420|The Nutcracker, Op. 71a, Act II: Scene 14: Pas de deux: Dance of the Prince & the Sugar-Plum Fairy|289|2|24|Peter Ilyich Tchaikovsky|304226|5184289|0.99\n",
            "12|Classical|12|3421|3421|Nimrod (Adagio) from Variations On an Original Theme, Op. 36 \"Enigma\"|290|2|24|Edward Elgar|250031|4124707|0.99\n",
            "12|Classical|12|3422|3422|Madama Butterfly: Un Bel Dì Vedremo|291|2|24|Giacomo Puccini|277639|4588197|0.99\n",
            "12|Classical|12|3423|3423|Jupiter, the Bringer of Jollity|292|2|24|Gustav Holst|522099|8547876|0.99\n",
            "12|Classical|12|3424|3424|Turandot, Act III, Nessun dorma!|293|2|24|Giacomo Puccini|176911|2920890|0.99\n",
            "12|Classical|12|3425|3425|Adagio for Strings from the String Quartet, Op. 11|294|2|24|Samuel Barber|596519|9585597|0.99\n",
            "12|Classical|12|3426|3426|Carmina Burana: O Fortuna|295|2|24|Carl Orff|156710|2630293|0.99\n",
            "12|Classical|12|3427|3427|Fanfare for the Common Man|296|2|24|Aaron Copland|198064|3211245|0.99\n",
            "12|Classical|12|3430|3430|Toccata and Fugue in D Minor, BWV 565: I. Toccata|297|2|24|Johann Sebastian Bach|153901|2649938|0.99\n",
            "12|Classical|12|3431|3431|Symphony No.1 in D Major, Op.25 \"Classical\", Allegro Con Brio|298|2|24|Sergei Prokofiev|254001|4195542|0.99\n",
            "12|Classical|12|3432|3432|Scheherazade, Op. 35: I. The Sea and Sindbad's Ship|299|2|24|Nikolai Rimsky-Korsakov|545203|8916313|0.99\n",
            "12|Classical|12|3433|3433|Concerto No.2 in F Major, BWV1047, I. Allegro|300|2|24|Johann Sebastian Bach|307244|5064553|0.99\n",
            "12|Classical|12|3434|3434|Concerto for Piano No. 2 in F Minor, Op. 21: II. Larghetto|301|2|24|Frédéric Chopin|560342|9160082|0.99\n",
            "12|Classical|12|3435|3435|Cavalleria Rusticana \\ Act \\ Intermezzo Sinfonico|302|2|24|Pietro Mascagni|243436|4001276|0.99\n",
            "12|Classical|12|3436|3436|Karelia Suite, Op.11: 2. Ballade (Tempo Di Menuetto)|303|2|24|Jean Sibelius|406000|5908455|0.99\n",
            "12|Classical|12|3437|3437|Piano Sonata No. 14 in C Sharp Minor, Op. 27, No. 2, \"Moonlight\": I. Adagio sostenuto|304|2|24|Ludwig van Beethoven|391000|6318740|0.99\n",
            "12|Classical|12|3438|3438|Fantasia On Greensleeves|280|2|24|Ralph Vaughan Williams|268066|4513190|0.99\n",
            "12|Classical|12|3439|3439|Das Lied Von Der Erde, Von Der Jugend|305|2|24|Gustav Mahler|223583|3700206|0.99\n",
            "12|Classical|12|3440|3440|Concerto for Cello and Orchestra in E minor, Op. 85: I. Adagio - Moderato|306|2|24|Edward Elgar|483133|7865479|0.99\n",
            "12|Classical|12|3441|3441|Two Fanfares for Orchestra: II. Short Ride in a Fast Machine|307|2|24|John Adams|254930|4310896|0.99\n",
            "12|Classical|12|3442|3442|Wellington's Victory or the Battle Symphony, Op.91: 2. Symphony of Triumph|308|2|24|Ludwig van Beethoven|412000|6965201|0.99\n",
            "12|Classical|12|3443|3443|Missa Papae Marcelli: Kyrie|309|2|24|Giovanni Pierluigi da Palestrina|240666|4244149|0.99\n",
            "12|Classical|12|3444|3444|Romeo et Juliette: No. 11 - Danse des Chevaliers|310|2|24||275015|4519239|0.99\n",
            "12|Classical|12|3445|3445|On the Beautiful Blue Danube|311|2|24|Johann Strauss II|526696|8610225|0.99\n",
            "12|Classical|12|3446|3446|Symphonie Fantastique, Op. 14: V. Songe d'une nuit du sabbat|312|2|24|Hector Berlioz|561967|9173344|0.99\n",
            "12|Classical|12|3447|3447|Carmen: Overture|313|2|24|Georges Bizet|132932|2189002|0.99\n",
            "12|Classical|12|3448|3448|Lamentations of Jeremiah, First Set \\ Incipit Lamentatio|314|2|24|Thomas Tallis|69194|1208080|0.99\n",
            "12|Classical|12|3449|3449|Music for the Royal Fireworks, HWV351 (1749): La Réjouissance|315|2|24|George Frideric Handel|120000|2193734|0.99\n",
            "12|Classical|12|3450|3450|Peer Gynt Suite No.1, Op.46: 1. Morning Mood|316|2|24|Edvard Grieg|253422|4298769|0.99\n",
            "12|Classical|12|3451|3451|Die Zauberflöte, K.620: \"Der Hölle Rache Kocht in Meinem Herze\"|317|2|25|Wolfgang Amadeus Mozart|174813|2861468|0.99\n",
            "12|Classical|12|3452|3452|SCRIABIN: Prelude in B Major, Op. 11, No. 11|318|4|24||101293|3819535|0.99\n",
            "12|Classical|12|3453|3453|Pavan, Lachrimae Antiquae|319|2|24|John Dowland|253281|4211495|0.99\n",
            "12|Classical|12|3454|3454|Symphony No. 41 in C Major, K. 551, \"Jupiter\": IV. Molto allegro|320|2|24|Wolfgang Amadeus Mozart|362933|6173269|0.99\n",
            "12|Classical|12|3479|3479|Prometheus Overture, Op. 43|324|4|24|Ludwig van Beethoven|339567|10887931|0.99\n",
            "12|Classical|12|3480|3480|Sonata for Solo Violin: IV: Presto|325|4|24|Béla Bartók|299350|9785346|0.99\n",
            "12|Classical|12|3481|3481|A Midsummer Night's Dream, Op.61 Incidental Music: No.7 Notturno|326|2|24||387826|6497867|0.99\n",
            "12|Classical|12|3482|3482|Suite No. 3 in D, BWV 1068: III. Gavotte I & II|327|2|24|Johann Sebastian Bach|225933|3847164|0.99\n",
            "12|Classical|12|3483|3483|Concert pour 4 Parties de V**les, H. 545: I. Prelude|328|2|24|Marc-Antoine Charpentier|110266|1973559|0.99\n",
            "12|Classical|12|3484|3484|Adios nonino|329|2|24|Astor Piazzolla|289388|4781384|0.99\n",
            "12|Classical|12|3485|3485|Symphony No. 3 Op. 36 for Orchestra and Soprano \"Symfonia Piesni Zalosnych\" \\ Lento E Largo - Tranquillissimo|330|2|24|Henryk Górecki|567494|9273123|0.99\n",
            "12|Classical|12|3486|3486|Act IV, Symphony|331|2|24|Henry Purcell|364296|5987695|0.99\n",
            "12|Classical|12|3487|3487|3 Gymnopédies: No.1 - Lent Et Grave, No.3 - Lent Et Douloureux|332|2|24|Erik Satie|385506|6458501|0.99\n",
            "12|Classical|12|3488|3488|Music for the Funeral of Queen Mary: VI. \"Thou Knowest, Lord, the Secrets of Our Hearts\"|333|2|24|Henry Purcell|142081|2365930|0.99\n",
            "12|Classical|12|3489|3489|Symphony No. 2: III. Allegro vivace|334|2|24|Kurt Weill|376510|6129146|0.99\n",
            "12|Classical|12|3490|3490|Partita in E Major, BWV 1006A: I. Prelude|335|2|24|Johann Sebastian Bach|285673|4744929|0.99\n",
            "12|Classical|12|3491|3491|Le Sacre Du Printemps: I.iv. Spring Rounds|336|2|24|Igor Stravinsky|234746|4072205|0.99\n",
            "12|Classical|12|3492|3492|Sing Joyfully|314|2|24|William Byrd|133768|2256484|0.99\n",
            "12|Classical|12|3493|3493|Metopes, Op. 29: Calypso|337|2|24|Karol Szymanowski|333669|5548755|0.99\n",
            "12|Classical|12|3494|3494|Symphony No. 2, Op. 16 -  \"The Four Temperaments\": II. Allegro Comodo e Flemmatico|338|2|24|Carl Nielsen|286998|4834785|0.99\n",
            "12|Classical|12|3495|3495|24 Caprices, Op. 1, No. 24, for Solo Violin, in A Minor|339|2|24|Niccolò Paganini|265541|4371533|0.99\n",
            "12|Classical|12|3496|3496|Étude 1, In C Major - Preludio (Presto) - Liszt|340|4|24||51780|2229617|0.99\n",
            "12|Classical|12|3497|3497|Erlkonig, D.328|341|2|24||261849|4307907|0.99\n",
            "12|Classical|12|3498|3498|Concerto for Violin, Strings and Continuo in G Major, Op. 3, No. 9: I. Allegro|342|4|24|Pietro Antonio Locatelli|493573|16454937|0.99\n",
            "12|Classical|12|3499|3499|Pini Di Roma (Pinien Von Rom) \\ I Pini Della Via Appia|343|2|24||286741|4718950|0.99\n",
            "12|Classical|12|3500|3500|String Quartet No. 12 in C Minor, D. 703 \"Quartettsatz\": II. Andante - Allegro assai|344|2|24|Franz Schubert|139200|2283131|0.99\n",
            "12|Classical|12|3501|3501|L'orfeo, Act 3, Sinfonia (Orchestra)|345|2|24|Claudio Monteverdi|66639|1189062|0.99\n",
            "12|Classical|12|3502|3502|Quintet for Horn, Violin, 2 Violas, and Cello in E Flat Major, K. 407/386c: III. Allegro|346|2|24|Wolfgang Amadeus Mozart|221331|3665114|0.99\n",
            "12|Classical|12|3503|3503|Koyaanisqatsi|347|2|10|Philip Glass|206005|3305164|0.99\n",
            "13|Classical 101 - Deep Cuts|13|3479|3479|Prometheus Overture, Op. 43|324|4|24|Ludwig van Beethoven|339567|10887931|0.99\n",
            "13|Classical 101 - Deep Cuts|13|3480|3480|Sonata for Solo Violin: IV: Presto|325|4|24|Béla Bartók|299350|9785346|0.99\n",
            "13|Classical 101 - Deep Cuts|13|3481|3481|A Midsummer Night's Dream, Op.61 Incidental Music: No.7 Notturno|326|2|24||387826|6497867|0.99\n",
            "13|Classical 101 - Deep Cuts|13|3482|3482|Suite No. 3 in D, BWV 1068: III. Gavotte I & II|327|2|24|Johann Sebastian Bach|225933|3847164|0.99\n",
            "13|Classical 101 - Deep Cuts|13|3483|3483|Concert pour 4 Parties de V**les, H. 545: I. Prelude|328|2|24|Marc-Antoine Charpentier|110266|1973559|0.99\n",
            "13|Classical 101 - Deep Cuts|13|3484|3484|Adios nonino|329|2|24|Astor Piazzolla|289388|4781384|0.99\n",
            "13|Classical 101 - Deep Cuts|13|3485|3485|Symphony No. 3 Op. 36 for Orchestra and Soprano \"Symfonia Piesni Zalosnych\" \\ Lento E Largo - Tranquillissimo|330|2|24|Henryk Górecki|567494|9273123|0.99\n",
            "13|Classical 101 - Deep Cuts|13|3486|3486|Act IV, Symphony|331|2|24|Henry Purcell|364296|5987695|0.99\n",
            "13|Classical 101 - Deep Cuts|13|3487|3487|3 Gymnopédies: No.1 - Lent Et Grave, No.3 - Lent Et Douloureux|332|2|24|Erik Satie|385506|6458501|0.99\n",
            "13|Classical 101 - Deep Cuts|13|3488|3488|Music for the Funeral of Queen Mary: VI. \"Thou Knowest, Lord, the Secrets of Our Hearts\"|333|2|24|Henry Purcell|142081|2365930|0.99\n",
            "13|Classical 101 - Deep Cuts|13|3489|3489|Symphony No. 2: III. Allegro vivace|334|2|24|Kurt Weill|376510|6129146|0.99\n",
            "13|Classical 101 - Deep Cuts|13|3490|3490|Partita in E Major, BWV 1006A: I. Prelude|335|2|24|Johann Sebastian Bach|285673|4744929|0.99\n",
            "13|Classical 101 - Deep Cuts|13|3491|3491|Le Sacre Du Printemps: I.iv. Spring Rounds|336|2|24|Igor Stravinsky|234746|4072205|0.99\n",
            "13|Classical 101 - Deep Cuts|13|3492|3492|Sing Joyfully|314|2|24|William Byrd|133768|2256484|0.99\n",
            "13|Classical 101 - Deep Cuts|13|3493|3493|Metopes, Op. 29: Calypso|337|2|24|Karol Szymanowski|333669|5548755|0.99\n",
            "13|Classical 101 - Deep Cuts|13|3494|3494|Symphony No. 2, Op. 16 -  \"The Four Temperaments\": II. Allegro Comodo e Flemmatico|338|2|24|Carl Nielsen|286998|4834785|0.99\n",
            "13|Classical 101 - Deep Cuts|13|3495|3495|24 Caprices, Op. 1, No. 24, for Solo Violin, in A Minor|339|2|24|Niccolò Paganini|265541|4371533|0.99\n",
            "13|Classical 101 - Deep Cuts|13|3496|3496|Étude 1, In C Major - Preludio (Presto) - Liszt|340|4|24||51780|2229617|0.99\n",
            "13|Classical 101 - Deep Cuts|13|3497|3497|Erlkonig, D.328|341|2|24||261849|4307907|0.99\n",
            "13|Classical 101 - Deep Cuts|13|3498|3498|Concerto for Violin, Strings and Continuo in G Major, Op. 3, No. 9: I. Allegro|342|4|24|Pietro Antonio Locatelli|493573|16454937|0.99\n",
            "13|Classical 101 - Deep Cuts|13|3499|3499|Pini Di Roma (Pinien Von Rom) \\ I Pini Della Via Appia|343|2|24||286741|4718950|0.99\n",
            "13|Classical 101 - Deep Cuts|13|3500|3500|String Quartet No. 12 in C Minor, D. 703 \"Quartettsatz\": II. Andante - Allegro assai|344|2|24|Franz Schubert|139200|2283131|0.99\n",
            "13|Classical 101 - Deep Cuts|13|3501|3501|L'orfeo, Act 3, Sinfonia (Orchestra)|345|2|24|Claudio Monteverdi|66639|1189062|0.99\n",
            "13|Classical 101 - Deep Cuts|13|3502|3502|Quintet for Horn, Violin, 2 Violas, and Cello in E Flat Major, K. 407/386c: III. Allegro|346|2|24|Wolfgang Amadeus Mozart|221331|3665114|0.99\n",
            "13|Classical 101 - Deep Cuts|13|3503|3503|Koyaanisqatsi|347|2|10|Philip Glass|206005|3305164|0.99\n",
            "14|Classical 101 - Next Steps|14|3430|3430|Toccata and Fugue in D Minor, BWV 565: I. Toccata|297|2|24|Johann Sebastian Bach|153901|2649938|0.99\n",
            "14|Classical 101 - Next Steps|14|3431|3431|Symphony No.1 in D Major, Op.25 \"Classical\", Allegro Con Brio|298|2|24|Sergei Prokofiev|254001|4195542|0.99\n",
            "14|Classical 101 - Next Steps|14|3432|3432|Scheherazade, Op. 35: I. The Sea and Sindbad's Ship|299|2|24|Nikolai Rimsky-Korsakov|545203|8916313|0.99\n",
            "14|Classical 101 - Next Steps|14|3433|3433|Concerto No.2 in F Major, BWV1047, I. Allegro|300|2|24|Johann Sebastian Bach|307244|5064553|0.99\n",
            "14|Classical 101 - Next Steps|14|3434|3434|Concerto for Piano No. 2 in F Minor, Op. 21: II. Larghetto|301|2|24|Frédéric Chopin|560342|9160082|0.99\n",
            "14|Classical 101 - Next Steps|14|3435|3435|Cavalleria Rusticana \\ Act \\ Intermezzo Sinfonico|302|2|24|Pietro Mascagni|243436|4001276|0.99\n",
            "14|Classical 101 - Next Steps|14|3436|3436|Karelia Suite, Op.11: 2. Ballade (Tempo Di Menuetto)|303|2|24|Jean Sibelius|406000|5908455|0.99\n",
            "14|Classical 101 - Next Steps|14|3437|3437|Piano Sonata No. 14 in C Sharp Minor, Op. 27, No. 2, \"Moonlight\": I. Adagio sostenuto|304|2|24|Ludwig van Beethoven|391000|6318740|0.99\n",
            "14|Classical 101 - Next Steps|14|3438|3438|Fantasia On Greensleeves|280|2|24|Ralph Vaughan Williams|268066|4513190|0.99\n",
            "14|Classical 101 - Next Steps|14|3439|3439|Das Lied Von Der Erde, Von Der Jugend|305|2|24|Gustav Mahler|223583|3700206|0.99\n",
            "14|Classical 101 - Next Steps|14|3440|3440|Concerto for Cello and Orchestra in E minor, Op. 85: I. Adagio - Moderato|306|2|24|Edward Elgar|483133|7865479|0.99\n",
            "14|Classical 101 - Next Steps|14|3441|3441|Two Fanfares for Orchestra: II. Short Ride in a Fast Machine|307|2|24|John Adams|254930|4310896|0.99\n",
            "14|Classical 101 - Next Steps|14|3442|3442|Wellington's Victory or the Battle Symphony, Op.91: 2. Symphony of Triumph|308|2|24|Ludwig van Beethoven|412000|6965201|0.99\n",
            "14|Classical 101 - Next Steps|14|3443|3443|Missa Papae Marcelli: Kyrie|309|2|24|Giovanni Pierluigi da Palestrina|240666|4244149|0.99\n",
            "14|Classical 101 - Next Steps|14|3444|3444|Romeo et Juliette: No. 11 - Danse des Chevaliers|310|2|24||275015|4519239|0.99\n",
            "14|Classical 101 - Next Steps|14|3445|3445|On the Beautiful Blue Danube|311|2|24|Johann Strauss II|526696|8610225|0.99\n",
            "14|Classical 101 - Next Steps|14|3446|3446|Symphonie Fantastique, Op. 14: V. Songe d'une nuit du sabbat|312|2|24|Hector Berlioz|561967|9173344|0.99\n",
            "14|Classical 101 - Next Steps|14|3447|3447|Carmen: Overture|313|2|24|Georges Bizet|132932|2189002|0.99\n",
            "14|Classical 101 - Next Steps|14|3448|3448|Lamentations of Jeremiah, First Set \\ Incipit Lamentatio|314|2|24|Thomas Tallis|69194|1208080|0.99\n",
            "14|Classical 101 - Next Steps|14|3449|3449|Music for the Royal Fireworks, HWV351 (1749): La Réjouissance|315|2|24|George Frideric Handel|120000|2193734|0.99\n",
            "14|Classical 101 - Next Steps|14|3450|3450|Peer Gynt Suite No.1, Op.46: 1. Morning Mood|316|2|24|Edvard Grieg|253422|4298769|0.99\n",
            "14|Classical 101 - Next Steps|14|3451|3451|Die Zauberflöte, K.620: \"Der Hölle Rache Kocht in Meinem Herze\"|317|2|25|Wolfgang Amadeus Mozart|174813|2861468|0.99\n",
            "14|Classical 101 - Next Steps|14|3452|3452|SCRIABIN: Prelude in B Major, Op. 11, No. 11|318|4|24||101293|3819535|0.99\n",
            "14|Classical 101 - Next Steps|14|3453|3453|Pavan, Lachrimae Antiquae|319|2|24|John Dowland|253281|4211495|0.99\n",
            "14|Classical 101 - Next Steps|14|3454|3454|Symphony No. 41 in C Major, K. 551, \"Jupiter\": IV. Molto allegro|320|2|24|Wolfgang Amadeus Mozart|362933|6173269|0.99\n",
            "15|Classical 101 - The Basics|15|3403|3403|Intoitus: Adorate Deum|272|2|24|Anonymous|245317|4123531|0.99\n",
            "15|Classical 101 - The Basics|15|3404|3404|Miserere mei, Deus|273|2|24|Gregorio Allegri|501503|8285941|0.99\n",
            "15|Classical 101 - The Basics|15|3405|3405|Canon and Gigue in D Major: I. Canon|274|2|24|Johann Pachelbel|271788|4438393|0.99\n",
            "15|Classical 101 - The Basics|15|3406|3406|Concerto No. 1 in E Major, RV 269 \"Spring\": I. Allegro|275|2|24|Antonio Vivaldi|199086|3347810|0.99\n",
            "15|Classical 101 - The Basics|15|3407|3407|Concerto for 2 Violins in D Minor, BWV 1043: I. Vivace|276|2|24|Johann Sebastian Bach|193722|3192890|0.99\n",
            "15|Classical 101 - The Basics|15|3408|3408|Aria Mit 30 Veränderungen, BWV 988 \"Goldberg Variations\": Aria|277|2|24|Johann Sebastian Bach|120463|2081895|0.99\n",
            "15|Classical 101 - The Basics|15|3409|3409|Suite for Solo Cello No. 1 in G Major, BWV 1007: I. Prélude|278|2|24|Johann Sebastian Bach|143288|2315495|0.99\n",
            "15|Classical 101 - The Basics|15|3410|3410|The Messiah: Behold, I Tell You a Mystery... The Trumpet Shall Sound|279|2|24|George Frideric Handel|582029|9553140|0.99\n",
            "15|Classical 101 - The Basics|15|3411|3411|Solomon HWV 67: The Arrival of the Queen of Sheba|280|2|24|George Frideric Handel|197135|3247914|0.99\n",
            "15|Classical 101 - The Basics|15|3412|3412|\"Eine Kleine Nachtmusik\" Serenade In G, K. 525: I. Allegro|281|2|24|Wolfgang Amadeus Mozart|348971|5760129|0.99\n",
            "15|Classical 101 - The Basics|15|3413|3413|Concerto for Clarinet in A Major, K. 622: II. Adagio|282|2|24|Wolfgang Amadeus Mozart|394482|6474980|0.99\n",
            "15|Classical 101 - The Basics|15|3414|3414|Symphony No. 104 in D Major \"London\": IV. Finale: Spiritoso|283|4|24|Franz Joseph Haydn|306687|10085867|0.99\n",
            "15|Classical 101 - The Basics|15|3415|3415|Symphony No.5 in C Minor: I. Allegro con brio|284|2|24|Ludwig van Beethoven|392462|6419730|0.99\n",
            "15|Classical 101 - The Basics|15|3416|3416|Ave Maria|285|2|24|Franz Schubert|338243|5605648|0.99\n",
            "15|Classical 101 - The Basics|15|3417|3417|Nabucco: Chorus, \"Va, Pensiero, Sull'ali Dorate\"|286|2|24|Giuseppe Verdi|274504|4498583|0.99\n",
            "15|Classical 101 - The Basics|15|3418|3418|Die Walküre: The Ride of the Valkyries|287|2|24|Richard Wagner|189008|3114209|0.99\n",
            "15|Classical 101 - The Basics|15|3419|3419|Requiem, Op.48: 4. Pie Jesu|288|2|24|Gabriel Fauré|258924|4314850|0.99\n",
            "15|Classical 101 - The Basics|15|3420|3420|The Nutcracker, Op. 71a, Act II: Scene 14: Pas de deux: Dance of the Prince & the Sugar-Plum Fairy|289|2|24|Peter Ilyich Tchaikovsky|304226|5184289|0.99\n",
            "15|Classical 101 - The Basics|15|3421|3421|Nimrod (Adagio) from Variations On an Original Theme, Op. 36 \"Enigma\"|290|2|24|Edward Elgar|250031|4124707|0.99\n",
            "15|Classical 101 - The Basics|15|3422|3422|Madama Butterfly: Un Bel Dì Vedremo|291|2|24|Giacomo Puccini|277639|4588197|0.99\n",
            "15|Classical 101 - The Basics|15|3423|3423|Jupiter, the Bringer of Jollity|292|2|24|Gustav Holst|522099|8547876|0.99\n",
            "15|Classical 101 - The Basics|15|3424|3424|Turandot, Act III, Nessun dorma!|293|2|24|Giacomo Puccini|176911|2920890|0.99\n",
            "15|Classical 101 - The Basics|15|3425|3425|Adagio for Strings from the String Quartet, Op. 11|294|2|24|Samuel Barber|596519|9585597|0.99\n",
            "15|Classical 101 - The Basics|15|3426|3426|Carmina Burana: O Fortuna|295|2|24|Carl Orff|156710|2630293|0.99\n",
            "15|Classical 101 - The Basics|15|3427|3427|Fanfare for the Common Man|296|2|24|Aaron Copland|198064|3211245|0.99\n"
          ]
        }
      ]
    },
    {
      "cell_type": "markdown",
      "source": [
        "Now I'm going to look at invoice data."
      ],
      "metadata": {
        "id": "M4l3yygH3e8x"
      }
    },
    {
      "cell_type": "code",
      "source": [
        "%%script sqlite3 --column --header chinook.db\n",
        "select *\n",
        "from invoices \n",
        "limit 10"
      ],
      "metadata": {
        "colab": {
          "base_uri": "https://localhost:8080/"
        },
        "id": "g2ErXc953khB",
        "outputId": "4375d6be-7934-4a39-9990-66db4bdb678d"
      },
      "execution_count": null,
      "outputs": [
        {
          "output_type": "stream",
          "name": "stdout",
          "text": [
            "InvoiceId   CustomerId  InvoiceDate          BillingAddress           BillingCity  BillingState  BillingCountry  BillingPostalCode  Total     \n",
            "----------  ----------  -------------------  -----------------------  -----------  ------------  --------------  -----------------  ----------\n",
            "1           2           2009-01-01 00:00:00  Theodor-Heuss-Straße 34  Stuttgart                  Germany         70174              1.98      \n",
            "2           4           2009-01-02 00:00:00  Ullevålsveien 14         Oslo                       Norway          0171               3.96      \n",
            "3           8           2009-01-03 00:00:00  Grétrystraat 63          Brussels                   Belgium         1000               5.94      \n",
            "4           14          2009-01-06 00:00:00  8210 111 ST NW           Edmonton     AB            Canada          T6G 2C7            8.91      \n",
            "5           23          2009-01-11 00:00:00  69 Salem Street          Boston       MA            USA             2113               13.86     \n",
            "6           37          2009-01-19 00:00:00  Berger Straße 10         Frankfurt                  Germany         60316              0.99      \n",
            "7           38          2009-02-01 00:00:00  Barbarossastraße 19      Berlin                     Germany         10779              1.98      \n",
            "8           40          2009-02-01 00:00:00  8, Rue Hanovre           Paris                      France          75002              1.98      \n",
            "9           42          2009-02-02 00:00:00  9, Place Louis Barthou   Bordeaux                   France          33000              3.96      \n",
            "10          46          2009-02-03 00:00:00  3 Chatham Street         Dublin       Dublin        Ireland                            5.94      \n"
          ]
        }
      ]
    },
    {
      "cell_type": "code",
      "source": [
        "%%script sqlite3 --column --header chinook.db\n",
        "select *\n",
        "from invoice_items\n",
        "limit 10"
      ],
      "metadata": {
        "colab": {
          "base_uri": "https://localhost:8080/"
        },
        "id": "LFnKWcn74Yi3",
        "outputId": "aa1ed6a3-2ae3-4505-f189-4dc60576f43e"
      },
      "execution_count": null,
      "outputs": [
        {
          "output_type": "stream",
          "name": "stdout",
          "text": [
            "InvoiceLineId  InvoiceId   TrackId     UnitPrice   Quantity  \n",
            "-------------  ----------  ----------  ----------  ----------\n",
            "1              1           2           0.99        1         \n",
            "2              1           4           0.99        1         \n",
            "3              2           6           0.99        1         \n",
            "4              2           8           0.99        1         \n",
            "5              2           10          0.99        1         \n",
            "6              2           12          0.99        1         \n",
            "7              3           16          0.99        1         \n",
            "8              3           20          0.99        1         \n",
            "9              3           24          0.99        1         \n",
            "10             3           28          0.99        1         \n"
          ]
        }
      ]
    },
    {
      "cell_type": "code",
      "source": [
        "%%script sqlite3 --column --header chinook.db\n",
        "select \n",
        "count(*)\n",
        "from invoices"
      ],
      "metadata": {
        "colab": {
          "base_uri": "https://localhost:8080/"
        },
        "id": "UFtEfgTD4EN7",
        "outputId": "48cc1de2-f4f1-4a17-c7d0-79edaf045e21"
      },
      "execution_count": null,
      "outputs": [
        {
          "output_type": "stream",
          "name": "stdout",
          "text": [
            "count(*)  \n",
            "----------\n",
            "412       \n"
          ]
        }
      ]
    },
    {
      "cell_type": "code",
      "source": [
        "%%script sqlite3 --column --header chinook.db\n",
        "select min(Total)\n",
        "from invoices"
      ],
      "metadata": {
        "colab": {
          "base_uri": "https://localhost:8080/"
        },
        "id": "abkjoj1Khcsn",
        "outputId": "25db45bf-a189-412f-b751-19da45cf8b3d"
      },
      "execution_count": null,
      "outputs": [
        {
          "output_type": "stream",
          "name": "stdout",
          "text": [
            "min(Total)\n",
            "----------\n",
            "0.99      \n"
          ]
        }
      ]
    },
    {
      "cell_type": "code",
      "source": [
        "%%script sqlite3 --column --header chinook.db\n",
        "select avg(Total)\n",
        "from invoices"
      ],
      "metadata": {
        "colab": {
          "base_uri": "https://localhost:8080/"
        },
        "id": "RlkoipxAhh9A",
        "outputId": "6789a556-ad0e-4de7-ea4e-dacce4325ce9"
      },
      "execution_count": null,
      "outputs": [
        {
          "output_type": "stream",
          "name": "stdout",
          "text": [
            "avg(Total)      \n",
            "----------------\n",
            "5.65194174757282\n"
          ]
        }
      ]
    },
    {
      "cell_type": "code",
      "source": [
        "%%script sqlite3 --column --header chinook.db\n",
        "select max(Total)\n",
        "from invoices"
      ],
      "metadata": {
        "colab": {
          "base_uri": "https://localhost:8080/"
        },
        "id": "aP6muyLB5aD3",
        "outputId": "07af1400-8883-44c9-d55b-c847a2c75ea1"
      },
      "execution_count": null,
      "outputs": [
        {
          "output_type": "stream",
          "name": "stdout",
          "text": [
            "max(Total)\n",
            "----------\n",
            "25.86     \n"
          ]
        }
      ]
    },
    {
      "cell_type": "code",
      "source": [
        "%%script sqlite3 --column --header chinook.db\n",
        "select *\n",
        "from invoices\n",
        "where Total = 25.86"
      ],
      "metadata": {
        "colab": {
          "base_uri": "https://localhost:8080/"
        },
        "id": "1Iod2swJ6lKC",
        "outputId": "34ca8375-49fa-4eed-8d2b-8273b50ca21e"
      },
      "execution_count": null,
      "outputs": [
        {
          "output_type": "stream",
          "name": "stdout",
          "text": [
            "InvoiceId   CustomerId  InvoiceDate          BillingAddress  BillingCity  BillingState  BillingCountry  BillingPostalCode  Total     \n",
            "----------  ----------  -------------------  --------------  -----------  ------------  --------------  -----------------  ----------\n",
            "404         6           2013-11-13 00:00:00  Rilská 3174/6   Prague                     Czech Republic  14300              25.86     \n"
          ]
        }
      ]
    },
    {
      "cell_type": "code",
      "source": [
        "%%script sqlite3 --column --header chinook.db\n",
        "select BillingCountry,\n",
        "max(Total)\n",
        "from invoices\n",
        "group by BillingCountry"
      ],
      "metadata": {
        "colab": {
          "base_uri": "https://localhost:8080/"
        },
        "id": "2oi9yZWO77Eg",
        "outputId": "f3704590-792a-4037-f6d9-b4ae2125f914"
      },
      "execution_count": null,
      "outputs": [
        {
          "output_type": "stream",
          "name": "stdout",
          "text": [
            "BillingCountry  max(Total)\n",
            "--------------  ----------\n",
            "Argentina       13.86     \n",
            "Australia       13.86     \n",
            "Austria         18.86     \n",
            "Belgium         13.86     \n",
            "Brazil          13.86     \n",
            "Canada          13.86     \n",
            "Chile           17.91     \n",
            "Czech Republic  25.86     \n",
            "Denmark         13.86     \n",
            "Finland         13.86     \n",
            "France          16.86     \n",
            "Germany         14.91     \n",
            "Hungary         21.86     \n",
            "India           13.86     \n",
            "Ireland         21.86     \n",
            "Italy           13.86     \n",
            "Netherlands     13.86     \n",
            "Norway          15.86     \n",
            "Poland          13.86     \n",
            "Portugal        13.86     \n",
            "Spain           13.86     \n",
            "Sweden          13.86     \n",
            "USA             23.86     \n",
            "United Kingdom  13.86     \n"
          ]
        }
      ]
    },
    {
      "cell_type": "code",
      "source": [
        "%%script sqlite3 --column --header chinook.db\n",
        "select BillingCountry,\n",
        "sum(Total)\n",
        "from invoices\n",
        "group by BillingCountry\n",
        "order by sum(Total)\n",
        "desc"
      ],
      "metadata": {
        "colab": {
          "base_uri": "https://localhost:8080/"
        },
        "id": "e8PMk05Q66pp",
        "outputId": "08bbeb26-8b12-4a58-f045-5e67c6cc1d3a"
      },
      "execution_count": null,
      "outputs": [
        {
          "output_type": "stream",
          "name": "stdout",
          "text": [
            "BillingCountry  sum(Total)\n",
            "--------------  ----------\n",
            "USA             523.06    \n",
            "Canada          303.96    \n",
            "France          195.1     \n",
            "Brazil          190.1     \n",
            "Germany         156.48    \n",
            "United Kingdom  112.86    \n",
            "Czech Republic  90.24     \n",
            "Portugal        77.24     \n",
            "India           75.26     \n",
            "Chile           46.62     \n",
            "Ireland         45.62     \n",
            "Hungary         45.62     \n",
            "Austria         42.62     \n",
            "Finland         41.62     \n",
            "Netherlands     40.62     \n",
            "Norway          39.62     \n",
            "Sweden          38.62     \n",
            "Poland          37.62     \n",
            "Italy           37.62     \n",
            "Denmark         37.62     \n",
            "Australia       37.62     \n",
            "Argentina       37.62     \n",
            "Spain           37.62     \n",
            "Belgium         37.62     \n"
          ]
        }
      ]
    },
    {
      "cell_type": "code",
      "source": [
        "%%script sqlite3 --column --header chinook.db\n",
        "With Sum_Country as(\n",
        "  select BillingCountry,\n",
        "  sum(Total) as 'Total'\n",
        "  from invoices\n",
        "  group by BillingCountry\n",
        "  )\n",
        "select BillingCountry,\n",
        "max(Total)\n",
        "from Sum_Country"
      ],
      "metadata": {
        "colab": {
          "base_uri": "https://localhost:8080/"
        },
        "id": "0_CvNXu58D01",
        "outputId": "1c5bfb87-f3c6-422e-92a8-a0c683e82e49"
      },
      "execution_count": null,
      "outputs": [
        {
          "output_type": "stream",
          "name": "stdout",
          "text": [
            "BillingCountry  max(Total)\n",
            "--------------  ----------\n",
            "USA             523.06    \n"
          ]
        }
      ]
    },
    {
      "cell_type": "code",
      "source": [
        "%%script sqlite3 --column --header chinook.db\n",
        "with inv as (\n",
        "  select BillingCountry, InvoiceId\n",
        "  from invoices\n",
        "  where BillingCountry = \"USA\"\n",
        "),\n",
        "inv_id as(\n",
        "  select InvoiceId, TrackId\n",
        "  from invoice_items\n",
        "),\n",
        "combo_wombov1 as (\n",
        "  select * \n",
        "  from inv join inv_id\n",
        "  on inv.InvoiceId = inv_id.InvoiceId\n",
        "),\n",
        "Track_info as (\n",
        "  select TrackId, GenreId\n",
        "  from tracks\n",
        "),\n",
        "combo_wombov2 as(\n",
        "  select *\n",
        "  from combo_wombov1 \n",
        "  join Track_info\n",
        "  where combo_wombov1.TrackId = Track_info.TrackId\n",
        "),\n",
        "Master_Combo as(\n",
        "select *\n",
        "from combo_wombov2 join genres\n",
        "on combo_wombov2.GenreId = genres.GenreId\n",
        ")\n",
        "select Name,\n",
        "count(Name)\n",
        "from Master_Combo\n",
        "group by Name\n",
        "order by count(Name)\n",
        "desc"
      ],
      "metadata": {
        "colab": {
          "base_uri": "https://localhost:8080/"
        },
        "id": "i2YNlkzG_EPR",
        "outputId": "a373d1a7-26cf-41be-d848-e91707cf0e99"
      },
      "execution_count": null,
      "outputs": [
        {
          "output_type": "stream",
          "name": "stdout",
          "text": [
            "Name        count(Name)\n",
            "----------  -----------\n",
            "Rock        157        \n",
            "Latin       91         \n",
            "Metal       64         \n",
            "Alternativ  50         \n",
            "Jazz        22         \n",
            "Blues       15         \n",
            "TV Shows    14         \n",
            "R&B/Soul    12         \n",
            "Comedy      8          \n",
            "Classical   8          \n",
            "Bossa Nova  7          \n",
            "Reggae      6          \n",
            "Drama       6          \n",
            "Sci Fi & F  5          \n",
            "Pop         5          \n",
            "Alternativ  5          \n",
            "Soundtrack  4          \n",
            "Hip Hop/Ra  4          \n",
            "Heavy Meta  4          \n",
            "Rock And R  3          \n",
            "Easy Liste  3          \n",
            "Science Fi  1          \n"
          ]
        }
      ]
    },
    {
      "cell_type": "code",
      "source": [
        "db_con = db.connect('chinook.db')\n",
        "query = \"\"\"\n",
        "  with inv as (\n",
        "  select BillingCountry, InvoiceId\n",
        "  from invoices\n",
        "  where BillingCountry = \"USA\"\n",
        "),\n",
        "inv_id as(\n",
        "  select InvoiceId, TrackId\n",
        "  from invoice_items\n",
        "),\n",
        "combo_wombov1 as (\n",
        "  select * \n",
        "  from inv join inv_id\n",
        "  on inv.InvoiceId = inv_id.InvoiceId\n",
        "),\n",
        "Track_info as (\n",
        "  select TrackId, GenreId\n",
        "  from tracks\n",
        "),\n",
        "combo_wombov2 as(\n",
        "  select *\n",
        "  from combo_wombov1 \n",
        "  join Track_info\n",
        "  where combo_wombov1.TrackId = Track_info.TrackId\n",
        "),\n",
        "Master_Combo as(\n",
        "select *\n",
        "from combo_wombov2 join genres\n",
        "on combo_wombov2.GenreId = genres.GenreId\n",
        ")\n",
        "select Name,\n",
        "count(Name)\n",
        "from Master_Combo\n",
        "group by Name\n",
        "order by count(Name)\n",
        "desc\n",
        "  \"\"\"\n",
        "usa_genres = pd.read_sql_query(query, db_con)"
      ],
      "metadata": {
        "id": "KhAUMiqHko5R"
      },
      "execution_count": null,
      "outputs": []
    },
    {
      "cell_type": "code",
      "source": [
        "db_con = db.connect('chinook.db')\n",
        "query = \"\"\"\n",
        "  select BillingCountry, InvoiceId\n",
        "  from invoices\n",
        "  where BillingCountry = \"USA\"\n",
        "  \"\"\"\n",
        "words = pd.read_sql_query(query, db_con)"
      ],
      "metadata": {
        "id": "m0ID1PxNIfLe"
      },
      "execution_count": null,
      "outputs": []
    },
    {
      "cell_type": "code",
      "source": [
        "words"
      ],
      "metadata": {
        "colab": {
          "base_uri": "https://localhost:8080/",
          "height": 424
        },
        "id": "tvq6yaGgJca5",
        "outputId": "45eea8d0-548b-43a7-ffb2-617035faed24"
      },
      "execution_count": null,
      "outputs": [
        {
          "output_type": "execute_result",
          "data": {
            "text/plain": [
              "   BillingCountry  InvoiceId\n",
              "0             USA          5\n",
              "1             USA         13\n",
              "2             USA         14\n",
              "3             USA         15\n",
              "4             USA         16\n",
              "..            ...        ...\n",
              "86            USA        397\n",
              "87            USA        405\n",
              "88            USA        406\n",
              "89            USA        407\n",
              "90            USA        408\n",
              "\n",
              "[91 rows x 2 columns]"
            ],
            "text/html": [
              "\n",
              "  <div id=\"df-cc03b0cc-ac92-4a65-a4bd-6746eedf7c38\">\n",
              "    <div class=\"colab-df-container\">\n",
              "      <div>\n",
              "<style scoped>\n",
              "    .dataframe tbody tr th:only-of-type {\n",
              "        vertical-align: middle;\n",
              "    }\n",
              "\n",
              "    .dataframe tbody tr th {\n",
              "        vertical-align: top;\n",
              "    }\n",
              "\n",
              "    .dataframe thead th {\n",
              "        text-align: right;\n",
              "    }\n",
              "</style>\n",
              "<table border=\"1\" class=\"dataframe\">\n",
              "  <thead>\n",
              "    <tr style=\"text-align: right;\">\n",
              "      <th></th>\n",
              "      <th>BillingCountry</th>\n",
              "      <th>InvoiceId</th>\n",
              "    </tr>\n",
              "  </thead>\n",
              "  <tbody>\n",
              "    <tr>\n",
              "      <th>0</th>\n",
              "      <td>USA</td>\n",
              "      <td>5</td>\n",
              "    </tr>\n",
              "    <tr>\n",
              "      <th>1</th>\n",
              "      <td>USA</td>\n",
              "      <td>13</td>\n",
              "    </tr>\n",
              "    <tr>\n",
              "      <th>2</th>\n",
              "      <td>USA</td>\n",
              "      <td>14</td>\n",
              "    </tr>\n",
              "    <tr>\n",
              "      <th>3</th>\n",
              "      <td>USA</td>\n",
              "      <td>15</td>\n",
              "    </tr>\n",
              "    <tr>\n",
              "      <th>4</th>\n",
              "      <td>USA</td>\n",
              "      <td>16</td>\n",
              "    </tr>\n",
              "    <tr>\n",
              "      <th>...</th>\n",
              "      <td>...</td>\n",
              "      <td>...</td>\n",
              "    </tr>\n",
              "    <tr>\n",
              "      <th>86</th>\n",
              "      <td>USA</td>\n",
              "      <td>397</td>\n",
              "    </tr>\n",
              "    <tr>\n",
              "      <th>87</th>\n",
              "      <td>USA</td>\n",
              "      <td>405</td>\n",
              "    </tr>\n",
              "    <tr>\n",
              "      <th>88</th>\n",
              "      <td>USA</td>\n",
              "      <td>406</td>\n",
              "    </tr>\n",
              "    <tr>\n",
              "      <th>89</th>\n",
              "      <td>USA</td>\n",
              "      <td>407</td>\n",
              "    </tr>\n",
              "    <tr>\n",
              "      <th>90</th>\n",
              "      <td>USA</td>\n",
              "      <td>408</td>\n",
              "    </tr>\n",
              "  </tbody>\n",
              "</table>\n",
              "<p>91 rows × 2 columns</p>\n",
              "</div>\n",
              "      <button class=\"colab-df-convert\" onclick=\"convertToInteractive('df-cc03b0cc-ac92-4a65-a4bd-6746eedf7c38')\"\n",
              "              title=\"Convert this dataframe to an interactive table.\"\n",
              "              style=\"display:none;\">\n",
              "        \n",
              "  <svg xmlns=\"http://www.w3.org/2000/svg\" height=\"24px\"viewBox=\"0 0 24 24\"\n",
              "       width=\"24px\">\n",
              "    <path d=\"M0 0h24v24H0V0z\" fill=\"none\"/>\n",
              "    <path d=\"M18.56 5.44l.94 2.06.94-2.06 2.06-.94-2.06-.94-.94-2.06-.94 2.06-2.06.94zm-11 1L8.5 8.5l.94-2.06 2.06-.94-2.06-.94L8.5 2.5l-.94 2.06-2.06.94zm10 10l.94 2.06.94-2.06 2.06-.94-2.06-.94-.94-2.06-.94 2.06-2.06.94z\"/><path d=\"M17.41 7.96l-1.37-1.37c-.4-.4-.92-.59-1.43-.59-.52 0-1.04.2-1.43.59L10.3 9.45l-7.72 7.72c-.78.78-.78 2.05 0 2.83L4 21.41c.39.39.9.59 1.41.59.51 0 1.02-.2 1.41-.59l7.78-7.78 2.81-2.81c.8-.78.8-2.07 0-2.86zM5.41 20L4 18.59l7.72-7.72 1.47 1.35L5.41 20z\"/>\n",
              "  </svg>\n",
              "      </button>\n",
              "      \n",
              "  <style>\n",
              "    .colab-df-container {\n",
              "      display:flex;\n",
              "      flex-wrap:wrap;\n",
              "      gap: 12px;\n",
              "    }\n",
              "\n",
              "    .colab-df-convert {\n",
              "      background-color: #E8F0FE;\n",
              "      border: none;\n",
              "      border-radius: 50%;\n",
              "      cursor: pointer;\n",
              "      display: none;\n",
              "      fill: #1967D2;\n",
              "      height: 32px;\n",
              "      padding: 0 0 0 0;\n",
              "      width: 32px;\n",
              "    }\n",
              "\n",
              "    .colab-df-convert:hover {\n",
              "      background-color: #E2EBFA;\n",
              "      box-shadow: 0px 1px 2px rgba(60, 64, 67, 0.3), 0px 1px 3px 1px rgba(60, 64, 67, 0.15);\n",
              "      fill: #174EA6;\n",
              "    }\n",
              "\n",
              "    [theme=dark] .colab-df-convert {\n",
              "      background-color: #3B4455;\n",
              "      fill: #D2E3FC;\n",
              "    }\n",
              "\n",
              "    [theme=dark] .colab-df-convert:hover {\n",
              "      background-color: #434B5C;\n",
              "      box-shadow: 0px 1px 3px 1px rgba(0, 0, 0, 0.15);\n",
              "      filter: drop-shadow(0px 1px 2px rgba(0, 0, 0, 0.3));\n",
              "      fill: #FFFFFF;\n",
              "    }\n",
              "  </style>\n",
              "\n",
              "      <script>\n",
              "        const buttonEl =\n",
              "          document.querySelector('#df-cc03b0cc-ac92-4a65-a4bd-6746eedf7c38 button.colab-df-convert');\n",
              "        buttonEl.style.display =\n",
              "          google.colab.kernel.accessAllowed ? 'block' : 'none';\n",
              "\n",
              "        async function convertToInteractive(key) {\n",
              "          const element = document.querySelector('#df-cc03b0cc-ac92-4a65-a4bd-6746eedf7c38');\n",
              "          const dataTable =\n",
              "            await google.colab.kernel.invokeFunction('convertToInteractive',\n",
              "                                                     [key], {});\n",
              "          if (!dataTable) return;\n",
              "\n",
              "          const docLinkHtml = 'Like what you see? Visit the ' +\n",
              "            '<a target=\"_blank\" href=https://colab.research.google.com/notebooks/data_table.ipynb>data table notebook</a>'\n",
              "            + ' to learn more about interactive tables.';\n",
              "          element.innerHTML = '';\n",
              "          dataTable['output_type'] = 'display_data';\n",
              "          await google.colab.output.renderOutput(dataTable, element);\n",
              "          const docLink = document.createElement('div');\n",
              "          docLink.innerHTML = docLinkHtml;\n",
              "          element.appendChild(docLink);\n",
              "        }\n",
              "      </script>\n",
              "    </div>\n",
              "  </div>\n",
              "  "
            ]
          },
          "metadata": {},
          "execution_count": 51
        }
      ]
    },
    {
      "cell_type": "markdown",
      "source": [
        "I'm going to match up InvoiceId from invoice_items and invoices."
      ],
      "metadata": {
        "id": "RGDRuQUU4w5C"
      }
    },
    {
      "cell_type": "markdown",
      "source": [
        "## Visualize Genres\n",
        "\n",
        "I'm going to make a barplot from the data we got regarding music genres being purchase by the United States.\n"
      ],
      "metadata": {
        "id": "ntL8dHJT57K8"
      }
    },
    {
      "cell_type": "code",
      "source": [
        "usa_genres"
      ],
      "metadata": {
        "colab": {
          "base_uri": "https://localhost:8080/",
          "height": 739
        },
        "id": "_m64tXI7lCYZ",
        "outputId": "53117728-3517-45c3-a3e3-e53f2fcc975d"
      },
      "execution_count": null,
      "outputs": [
        {
          "output_type": "execute_result",
          "data": {
            "text/plain": [
              "                  Name  count(Name)\n",
              "0                 Rock          157\n",
              "1                Latin           91\n",
              "2                Metal           64\n",
              "3   Alternative & Punk           50\n",
              "4                 Jazz           22\n",
              "5                Blues           15\n",
              "6             TV Shows           14\n",
              "7             R&B/Soul           12\n",
              "8               Comedy            8\n",
              "9            Classical            8\n",
              "10          Bossa Nova            7\n",
              "11              Reggae            6\n",
              "12               Drama            6\n",
              "13    Sci Fi & Fantasy            5\n",
              "14                 Pop            5\n",
              "15         Alternative            5\n",
              "16          Soundtrack            4\n",
              "17         Hip Hop/Rap            4\n",
              "18         Heavy Metal            4\n",
              "19       Rock And Roll            3\n",
              "20      Easy Listening            3\n",
              "21     Science Fiction            1"
            ],
            "text/html": [
              "\n",
              "  <div id=\"df-d04f831d-2ad5-4fd0-bd2c-40529aa2b0e9\">\n",
              "    <div class=\"colab-df-container\">\n",
              "      <div>\n",
              "<style scoped>\n",
              "    .dataframe tbody tr th:only-of-type {\n",
              "        vertical-align: middle;\n",
              "    }\n",
              "\n",
              "    .dataframe tbody tr th {\n",
              "        vertical-align: top;\n",
              "    }\n",
              "\n",
              "    .dataframe thead th {\n",
              "        text-align: right;\n",
              "    }\n",
              "</style>\n",
              "<table border=\"1\" class=\"dataframe\">\n",
              "  <thead>\n",
              "    <tr style=\"text-align: right;\">\n",
              "      <th></th>\n",
              "      <th>Name</th>\n",
              "      <th>count(Name)</th>\n",
              "    </tr>\n",
              "  </thead>\n",
              "  <tbody>\n",
              "    <tr>\n",
              "      <th>0</th>\n",
              "      <td>Rock</td>\n",
              "      <td>157</td>\n",
              "    </tr>\n",
              "    <tr>\n",
              "      <th>1</th>\n",
              "      <td>Latin</td>\n",
              "      <td>91</td>\n",
              "    </tr>\n",
              "    <tr>\n",
              "      <th>2</th>\n",
              "      <td>Metal</td>\n",
              "      <td>64</td>\n",
              "    </tr>\n",
              "    <tr>\n",
              "      <th>3</th>\n",
              "      <td>Alternative &amp; Punk</td>\n",
              "      <td>50</td>\n",
              "    </tr>\n",
              "    <tr>\n",
              "      <th>4</th>\n",
              "      <td>Jazz</td>\n",
              "      <td>22</td>\n",
              "    </tr>\n",
              "    <tr>\n",
              "      <th>5</th>\n",
              "      <td>Blues</td>\n",
              "      <td>15</td>\n",
              "    </tr>\n",
              "    <tr>\n",
              "      <th>6</th>\n",
              "      <td>TV Shows</td>\n",
              "      <td>14</td>\n",
              "    </tr>\n",
              "    <tr>\n",
              "      <th>7</th>\n",
              "      <td>R&amp;B/Soul</td>\n",
              "      <td>12</td>\n",
              "    </tr>\n",
              "    <tr>\n",
              "      <th>8</th>\n",
              "      <td>Comedy</td>\n",
              "      <td>8</td>\n",
              "    </tr>\n",
              "    <tr>\n",
              "      <th>9</th>\n",
              "      <td>Classical</td>\n",
              "      <td>8</td>\n",
              "    </tr>\n",
              "    <tr>\n",
              "      <th>10</th>\n",
              "      <td>Bossa Nova</td>\n",
              "      <td>7</td>\n",
              "    </tr>\n",
              "    <tr>\n",
              "      <th>11</th>\n",
              "      <td>Reggae</td>\n",
              "      <td>6</td>\n",
              "    </tr>\n",
              "    <tr>\n",
              "      <th>12</th>\n",
              "      <td>Drama</td>\n",
              "      <td>6</td>\n",
              "    </tr>\n",
              "    <tr>\n",
              "      <th>13</th>\n",
              "      <td>Sci Fi &amp; Fantasy</td>\n",
              "      <td>5</td>\n",
              "    </tr>\n",
              "    <tr>\n",
              "      <th>14</th>\n",
              "      <td>Pop</td>\n",
              "      <td>5</td>\n",
              "    </tr>\n",
              "    <tr>\n",
              "      <th>15</th>\n",
              "      <td>Alternative</td>\n",
              "      <td>5</td>\n",
              "    </tr>\n",
              "    <tr>\n",
              "      <th>16</th>\n",
              "      <td>Soundtrack</td>\n",
              "      <td>4</td>\n",
              "    </tr>\n",
              "    <tr>\n",
              "      <th>17</th>\n",
              "      <td>Hip Hop/Rap</td>\n",
              "      <td>4</td>\n",
              "    </tr>\n",
              "    <tr>\n",
              "      <th>18</th>\n",
              "      <td>Heavy Metal</td>\n",
              "      <td>4</td>\n",
              "    </tr>\n",
              "    <tr>\n",
              "      <th>19</th>\n",
              "      <td>Rock And Roll</td>\n",
              "      <td>3</td>\n",
              "    </tr>\n",
              "    <tr>\n",
              "      <th>20</th>\n",
              "      <td>Easy Listening</td>\n",
              "      <td>3</td>\n",
              "    </tr>\n",
              "    <tr>\n",
              "      <th>21</th>\n",
              "      <td>Science Fiction</td>\n",
              "      <td>1</td>\n",
              "    </tr>\n",
              "  </tbody>\n",
              "</table>\n",
              "</div>\n",
              "      <button class=\"colab-df-convert\" onclick=\"convertToInteractive('df-d04f831d-2ad5-4fd0-bd2c-40529aa2b0e9')\"\n",
              "              title=\"Convert this dataframe to an interactive table.\"\n",
              "              style=\"display:none;\">\n",
              "        \n",
              "  <svg xmlns=\"http://www.w3.org/2000/svg\" height=\"24px\"viewBox=\"0 0 24 24\"\n",
              "       width=\"24px\">\n",
              "    <path d=\"M0 0h24v24H0V0z\" fill=\"none\"/>\n",
              "    <path d=\"M18.56 5.44l.94 2.06.94-2.06 2.06-.94-2.06-.94-.94-2.06-.94 2.06-2.06.94zm-11 1L8.5 8.5l.94-2.06 2.06-.94-2.06-.94L8.5 2.5l-.94 2.06-2.06.94zm10 10l.94 2.06.94-2.06 2.06-.94-2.06-.94-.94-2.06-.94 2.06-2.06.94z\"/><path d=\"M17.41 7.96l-1.37-1.37c-.4-.4-.92-.59-1.43-.59-.52 0-1.04.2-1.43.59L10.3 9.45l-7.72 7.72c-.78.78-.78 2.05 0 2.83L4 21.41c.39.39.9.59 1.41.59.51 0 1.02-.2 1.41-.59l7.78-7.78 2.81-2.81c.8-.78.8-2.07 0-2.86zM5.41 20L4 18.59l7.72-7.72 1.47 1.35L5.41 20z\"/>\n",
              "  </svg>\n",
              "      </button>\n",
              "      \n",
              "  <style>\n",
              "    .colab-df-container {\n",
              "      display:flex;\n",
              "      flex-wrap:wrap;\n",
              "      gap: 12px;\n",
              "    }\n",
              "\n",
              "    .colab-df-convert {\n",
              "      background-color: #E8F0FE;\n",
              "      border: none;\n",
              "      border-radius: 50%;\n",
              "      cursor: pointer;\n",
              "      display: none;\n",
              "      fill: #1967D2;\n",
              "      height: 32px;\n",
              "      padding: 0 0 0 0;\n",
              "      width: 32px;\n",
              "    }\n",
              "\n",
              "    .colab-df-convert:hover {\n",
              "      background-color: #E2EBFA;\n",
              "      box-shadow: 0px 1px 2px rgba(60, 64, 67, 0.3), 0px 1px 3px 1px rgba(60, 64, 67, 0.15);\n",
              "      fill: #174EA6;\n",
              "    }\n",
              "\n",
              "    [theme=dark] .colab-df-convert {\n",
              "      background-color: #3B4455;\n",
              "      fill: #D2E3FC;\n",
              "    }\n",
              "\n",
              "    [theme=dark] .colab-df-convert:hover {\n",
              "      background-color: #434B5C;\n",
              "      box-shadow: 0px 1px 3px 1px rgba(0, 0, 0, 0.15);\n",
              "      filter: drop-shadow(0px 1px 2px rgba(0, 0, 0, 0.3));\n",
              "      fill: #FFFFFF;\n",
              "    }\n",
              "  </style>\n",
              "\n",
              "      <script>\n",
              "        const buttonEl =\n",
              "          document.querySelector('#df-d04f831d-2ad5-4fd0-bd2c-40529aa2b0e9 button.colab-df-convert');\n",
              "        buttonEl.style.display =\n",
              "          google.colab.kernel.accessAllowed ? 'block' : 'none';\n",
              "\n",
              "        async function convertToInteractive(key) {\n",
              "          const element = document.querySelector('#df-d04f831d-2ad5-4fd0-bd2c-40529aa2b0e9');\n",
              "          const dataTable =\n",
              "            await google.colab.kernel.invokeFunction('convertToInteractive',\n",
              "                                                     [key], {});\n",
              "          if (!dataTable) return;\n",
              "\n",
              "          const docLinkHtml = 'Like what you see? Visit the ' +\n",
              "            '<a target=\"_blank\" href=https://colab.research.google.com/notebooks/data_table.ipynb>data table notebook</a>'\n",
              "            + ' to learn more about interactive tables.';\n",
              "          element.innerHTML = '';\n",
              "          dataTable['output_type'] = 'display_data';\n",
              "          await google.colab.output.renderOutput(dataTable, element);\n",
              "          const docLink = document.createElement('div');\n",
              "          docLink.innerHTML = docLinkHtml;\n",
              "          element.appendChild(docLink);\n",
              "        }\n",
              "      </script>\n",
              "    </div>\n",
              "  </div>\n",
              "  "
            ]
          },
          "metadata": {},
          "execution_count": 52
        }
      ]
    },
    {
      "cell_type": "code",
      "source": [
        "ax = usa_genres.plot.bar('Name', 'count(Name)')\n",
        "ax.legend(['Count'])\n",
        "plt.xlabel('Genres in the USA')\n",
        "plt.ylabel('Count')\n",
        "plt.show()"
      ],
      "metadata": {
        "id": "SZXIuqBX6L50",
        "colab": {
          "base_uri": "https://localhost:8080/",
          "height": 363
        },
        "outputId": "48833c55-3ba0-46b0-ac71-8cfcf1548045"
      },
      "execution_count": null,
      "outputs": [
        {
          "output_type": "display_data",
          "data": {
            "text/plain": [
              "<Figure size 432x288 with 1 Axes>"
            ],
            "image/png": "[encoded data removed]"
          },
          "metadata": {
            "needs_background": "light"
          }
        }
      ]
    }
  ]
}